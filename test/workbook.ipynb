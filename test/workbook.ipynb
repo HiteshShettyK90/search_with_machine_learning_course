{
 "cells": [
  {
   "cell_type": "code",
   "execution_count": 2,
   "metadata": {},
   "outputs": [],
   "source": [
    "from opensearchpy import OpenSearch\n",
    "import json\n",
    "host = 'localhost'\n",
    "port = 9200\n",
    "auth = ('admin','admin')\n",
    "\n"
   ]
  },
  {
   "cell_type": "code",
   "execution_count": 3,
   "metadata": {},
   "outputs": [],
   "source": [
    "# Create the client with SSL/TLS enabled, but hostname and certification verification disabled.\n",
    "client = OpenSearch(\n",
    "    hosts = [{'host': host, 'port': port}],\n",
    "    http_compress = True, # enables gzip compression for request bodies\n",
    "    http_auth = auth,\n",
    "    # client_cert = client_cert_path,\n",
    "    # client_key = client_key_path,\n",
    "    use_ssl = True,\n",
    "    verify_certs = False,\n",
    "    ssl_assert_hostname = False,\n",
    "    ssl_show_warn = False,\n",
    ")"
   ]
  },
  {
   "cell_type": "code",
   "execution_count": 4,
   "metadata": {},
   "outputs": [
    {
     "name": "stdout",
     "output_type": "stream",
     "text": [
      "1645318248 00:50:48 docker-cluster yellow 1 1 true 8 8 0 0 4 0 - 66.7%\n",
      "\n",
      "yellow open security-auditlog-2022.02.19                PGiBvPgHTmyI16bdT8uDpw 1 1  817  0 805.6kb 805.6kb\n",
      "green  open .kibana_92668751_admin_1                    jGcsAkCnQjajrpvfz3yHRw 1 0   38  0  29.4kb  29.4kb\n",
      "yellow open logstash_test                               e5sraf4ISUyY4NlUOV-psQ 1 1    3  0  16.3kb  16.3kb\n",
      "yellow open searchml_test                               N9iQ26TlQKWKtqXOfHcvgg 1 1    4  0  21.4kb  21.4kb\n",
      "green  open .kibana_1                                   wf5MjWZ2TI-JNKzwl1NuDw 1 0    3 11    14kb    14kb\n",
      "green  open opensearch_dashboards_sample_data_ecommerce TZu84S_MQtutb-sLvcVv4g 1 0 4675  0   4.3mb   4.3mb\n",
      "green  open .opendistro_security                        rCemxg5jRBiKHSzJSdR_Fg 1 0    9  0  59.9kb  59.9kb\n",
      "yellow open security-auditlog-2022.02.20                jAmBqCzOR8uGMuFRlNkA1g 1 1   68  0 188.5kb 188.5kb\n",
      "\n"
     ]
    }
   ],
   "source": [
    "#Do a few checks before we start indexing:\n",
    "print(client.cat.health())\n",
    "print(client.cat.indices())"
   ]
  },
  {
   "cell_type": "code",
   "execution_count": 10,
   "metadata": {},
   "outputs": [
    {
     "name": "stdout",
     "output_type": "stream",
     "text": [
      "epoch      timestamp count\n",
      "1645301091 20:04:51  4\n",
      "\n"
     ]
    }
   ],
   "source": [
    "# If you still have your documents from the Dev Tools test, we should be able to check them here:\n",
    "print(client.cat.count(\"searchml_test\", params={\"v\":\"true\"}))"
   ]
  },
  {
   "cell_type": "code",
   "execution_count": 8,
   "metadata": {},
   "outputs": [
    {
     "data": {
      "text/plain": [
       "{'took': 2,\n",
       " 'timed_out': False,\n",
       " '_shards': {'total': 1, 'successful': 1, 'skipped': 0, 'failed': 0},\n",
       " 'hits': {'total': {'value': 1, 'relation': 'eq'},\n",
       "  'max_score': 1.7563686,\n",
       "  'hits': [{'_index': 'logstash_test',\n",
       "    '_type': '_doc',\n",
       "    '_id': '3zrbE38BhqS8Kq1d43LF',\n",
       "    '_score': 1.7563686,\n",
       "    '_source': {'@version': '1',\n",
       "     'message': 'Hitesh Karunakara Shetty',\n",
       "     '@timestamp': '2022-02-19T21:20:51.892Z',\n",
       "     'host': 'hiteshshettyk90-searchwi-soq5n550s5v'}}]}}"
      ]
     },
     "execution_count": 8,
     "metadata": {},
     "output_type": "execute_result"
    }
   ],
   "source": [
    "q = 'Hitesh'\n",
    "index_name = 'logstash_test'\n",
    "query = {\n",
    "      'size': 5,\n",
    "      'query': {\n",
    "          'multi_match': {\n",
    "            'query': q,\n",
    "            'fields': ['message^2', 'host']\n",
    "            }\n",
    "          }\n",
    "        }\n",
    "\n",
    "client.search(\n",
    "            body = query,\n",
    "            index = index_name\n",
    "        )"
   ]
  },
  {
   "cell_type": "code",
   "execution_count": 8,
   "metadata": {},
   "outputs": [
    {
     "data": {
      "text/plain": [
       "{'took': 2,\n",
       " 'timed_out': False,\n",
       " '_shards': {'total': 1, 'successful': 1, 'skipped': 0, 'failed': 0},\n",
       " 'hits': {'total': {'value': 0, 'relation': 'eq'},\n",
       "  'max_score': None,\n",
       "  'hits': []}}"
      ]
     },
     "execution_count": 8,
     "metadata": {},
     "output_type": "execute_result"
    }
   ],
   "source": [
    "q = \"*\"\n",
    "index_name = 'bbuy_products'\n",
    "query = {\n",
    "      'size': 5,\n",
    "      'query': {\n",
    "          'multi_match': {\n",
    "            'query': q,\n",
    "            'fields': ['name^2', 'sku']\n",
    "            }\n",
    "          }\n",
    "        }\n",
    "\n",
    "client.search(\n",
    "            body = query,\n",
    "            index = index_name\n",
    "        )"
   ]
  },
  {
   "cell_type": "code",
   "execution_count": 5,
   "metadata": {},
   "outputs": [
    {
     "data": {
      "text/plain": [
       "{'took': 8,\n",
       " 'timed_out': False,\n",
       " '_shards': {'total': 1, 'successful': 1, 'skipped': 0, 'failed': 0},\n",
       " 'hits': {'total': {'value': 2, 'relation': 'eq'},\n",
       "  'max_score': 1.0,\n",
       "  'hits': [{'_index': 'searchml_test',\n",
       "    '_type': '_doc',\n",
       "    '_id': 'doc_a',\n",
       "    '_score': 1.0,\n",
       "    '_source': {'title': 'Fox and Hounds',\n",
       "     'body': 'The quick red fox jumped over the lazy brown dogs.',\n",
       "     'category': 'childrens'}},\n",
       "   {'_index': 'searchml_test',\n",
       "    '_type': '_doc',\n",
       "    '_id': 'doc_d',\n",
       "    '_score': 1.0,\n",
       "    '_source': {'title': 'The Three Little Pigs Revisted',\n",
       "     'body': 'The big, bad wolf huffed and puffed and blew the house down. The end.',\n",
       "     'category': 'childrens'}}]}}"
      ]
     },
     "execution_count": 5,
     "metadata": {},
     "output_type": "execute_result"
    }
   ],
   "source": [
    "index_name = 'searchml_test'\n",
    "query = {\n",
    "            'size': 5,\n",
    "            'query': {\n",
    "                \"function_score\": {\n",
    "                    \"query\": {\n",
    "                        \"bool\": {\n",
    "                            \"must\": [\n",
    "                                {\"match_all\": {}}\n",
    "                            ],\n",
    "                            \"filter\": [\n",
    "                                {\"term\": {\"category\": \"childrens\"}}\n",
    "                            ]\n",
    "                        }\n",
    "                    },\n",
    "                    \"field_value_factor\": {\n",
    "                        \"field\": \"price\",\n",
    "                        \"missing\": 1\n",
    "                    }\n",
    "                }\n",
    "            }\n",
    "        }\n",
    "\n",
    "client.search(\n",
    "            body=query,\n",
    "            index=index_name\n",
    "        )"
   ]
  },
  {
   "cell_type": "code",
   "execution_count": 7,
   "metadata": {},
   "outputs": [
    {
     "name": "stdout",
     "output_type": "stream",
     "text": [
      "\n",
      "Search results:\n",
      "{\n",
      "    \"took\": 32,\n",
      "    \"timed_out\": false,\n",
      "    \"_shards\": {\n",
      "        \"total\": 1,\n",
      "        \"successful\": 1,\n",
      "        \"skipped\": 0,\n",
      "        \"failed\": 0\n",
      "    },\n",
      "    \"hits\": {\n",
      "        \"total\": {\n",
      "            \"value\": 5000,\n",
      "            \"relation\": \"eq\"\n",
      "        },\n",
      "        \"max_score\": null,\n",
      "        \"hits\": []\n",
      "    },\n",
      "    \"aggregations\": {\n",
      "        \"category\": {\n",
      "            \"doc_count_error_upper_bound\": 0,\n",
      "            \"sum_other_doc_count\": 0,\n",
      "            \"buckets\": [\n",
      "                {\n",
      "                    \"key\": \"N/A\",\n",
      "                    \"doc_count\": 5000\n",
      "                }\n",
      "            ]\n",
      "        }\n",
      "    }\n",
      "}\n"
     ]
    }
   ],
   "source": [
    "##Aggregations\n",
    "index_name = 'searchml_test'\n",
    "query = {\n",
    "        'size': 0,\n",
    "        'query': {\n",
    "            \"match_all\": {}\n",
    "            },\n",
    "            'aggs': {\n",
    "                \"category\": {\n",
    "                    \"terms\": {\n",
    "                        \"field\": \"category.keyword\",\n",
    "                        \"size\": 10,\n",
    "                        \"missing\": \"N/A\",\n",
    "                        \"min_doc_count\": 0\n",
    "                    }\n",
    "                }\n",
    "            }\n",
    "        }\n",
    "\n",
    "response = client.search(\n",
    "            body=query,\n",
    "            index=index_name\n",
    "        )\n",
    "print('\\nSearch results:')\n",
    "print(json.dumps(response, indent=4))"
   ]
  },
  {
   "cell_type": "code",
   "execution_count": 6,
   "metadata": {},
   "outputs": [
    {
     "name": "stdout",
     "output_type": "stream",
     "text": [
      "\n",
      "Search results:\n",
      "{\n",
      "    \"took\": 11,\n",
      "    \"timed_out\": false,\n",
      "    \"_shards\": {\n",
      "        \"total\": 1,\n",
      "        \"successful\": 1,\n",
      "        \"skipped\": 0,\n",
      "        \"failed\": 0\n",
      "    },\n",
      "    \"hits\": {\n",
      "        \"total\": {\n",
      "            \"value\": 5000,\n",
      "            \"relation\": \"eq\"\n",
      "        },\n",
      "        \"max_score\": null,\n",
      "        \"hits\": []\n",
      "    },\n",
      "    \"aggregations\": {\n",
      "        \"price\": {\n",
      "            \"doc_count_error_upper_bound\": 0,\n",
      "            \"sum_other_doc_count\": 0,\n",
      "            \"buckets\": []\n",
      "        }\n",
      "    }\n",
      "}\n"
     ]
    }
   ],
   "source": [
    "  index_name = 'opensearch_dashboards_sample_data_ecommerce'\n",
    "  query = {\n",
    "  'size': 0,\n",
    "  'query': {\n",
    "   \"match_all\": {}\n",
    "   },\n",
    "   'aggs': {\n",
    "    \"price\": {\n",
    "     \"terms\": {\n",
    "      \"field\": \"price\",\n",
    "      \"size\": 10,\n",
    "      \"min_doc_count\": 0\n",
    "     }\n",
    "    }\n",
    "   }\n",
    "  }\n",
    "\n",
    "  response = client.search(\n",
    "   body=query,\n",
    "   index=index_name\n",
    "  )\n",
    "  print('\\nSearch results:')\n",
    "  print(json.dumps(response, indent=4))"
   ]
  },
  {
   "cell_type": "code",
   "execution_count": 5,
   "metadata": {},
   "outputs": [
    {
     "name": "stdout",
     "output_type": "stream",
     "text": [
      "{'took': 4, 'timed_out': False, '_shards': {'total': 1, 'successful': 1, 'skipped': 0, 'failed': 0}, 'hits': {'total': {'value': 10000, 'relation': 'gte'}, 'max_score': 1.0, 'hits': [{'_index': 'bbuy_products', '_type': '_doc', '_id': '1613301', '_score': 1.0, '_source': {'class': ['BLU RAY MOVIES'], 'inStorePickup': ['false'], 'categoryPath': ['Best Buy', 'Movies &amp; Music', 'Movies &amp; TV Shows'], 'productId': ['50156'], 'onlineAvailability': ['false'], 'regularPrice': ['9.99'], 'quantityLimit': ['3'], 'digital': ['false'], 'name': ['The Frugal Gourmet: Whole-Meal Soups - VHS'], 'type': ['Movie'], 'releaseDate': ['2001-05-15'], '@version': '1', 'bestBuyItemId': ['233422'], 'salePrice': ['9.99'], 'categoryPathIds': ['cat00000', 'abcat0600000', 'cat02015'], '@timestamp': '2022-02-21T06:05:28.350Z', 'tags': ['multiline'], 'department': ['VIDEO/COMPACT DISC'], 'subclassId': ['1029'], 'categoryLeaf': ['cat02015'], 'categoryPathCount': ['3.0'], 'departmentId': ['8'], 'homeDelivery': ['false'], 'startDate': ['2000-10-17'], 'classId': ['76'], 'active': ['false'], 'image': ['http://images.bestbuy.com/BestBuy_US/images/products/1613/1613301.jpg'], 'onSale': ['false'], 'subclass': ['SPECIAL INTEREST'], 'sku': ['1613301'], 'inStoreAvailability': ['false']}}, {'_index': 'bbuy_products', '_type': '_doc', '_id': '1613310', '_score': 1.0, '_source': {'class': ['BLU RAY MOVIES'], 'inStorePickup': ['false'], 'categoryPath': ['Best Buy', 'Movies &amp; Music', 'Movies &amp; TV Shows'], 'productId': ['48614'], 'onlineAvailability': ['false'], 'regularPrice': ['9.99'], 'quantityLimit': ['3'], 'digital': ['false'], 'name': ['The Frugal Gourmet: The Stand-Up Buffet - VHS'], 'type': ['Movie'], 'releaseDate': ['2001-05-15'], '@version': '1', 'bestBuyItemId': ['233685'], 'salePrice': ['9.99'], 'categoryPathIds': ['cat00000', 'abcat0600000', 'cat02015'], '@timestamp': '2022-02-21T06:05:28.532Z', 'tags': ['multiline'], 'department': ['VIDEO/COMPACT DISC'], 'subclassId': ['1029'], 'categoryLeaf': ['cat02015'], 'categoryPathCount': ['3.0'], 'departmentId': ['8'], 'homeDelivery': ['false'], 'startDate': ['2000-10-17'], 'classId': ['76'], 'active': ['false'], 'image': ['http://images.bestbuy.com/BestBuy_US/images/products/1613/1613310.jpg'], 'onSale': ['false'], 'subclass': ['SPECIAL INTEREST'], 'sku': ['1613310'], 'inStoreAvailability': ['false']}}, {'_index': 'bbuy_products', '_type': '_doc', '_id': '1613329', '_score': 1.0, '_source': {'class': ['BLU RAY MOVIES'], 'inStorePickup': ['false'], 'categoryPath': ['Best Buy', 'Movies &amp; Music', 'Movies &amp; TV Shows'], 'productId': ['26247'], 'onlineAvailability': ['false'], 'regularPrice': ['9.99'], 'quantityLimit': ['3'], 'digital': ['false'], 'name': ['The Frugal Gourmet: Sherbets and Ice Creams - VHS'], 'type': ['Movie'], 'releaseDate': ['2001-05-15'], '@version': '1', 'bestBuyItemId': ['233825'], 'salePrice': ['9.99'], 'categoryPathIds': ['cat00000', 'abcat0600000', 'cat02015'], '@timestamp': '2022-02-21T06:05:28.534Z', 'tags': ['multiline'], 'department': ['VIDEO/COMPACT DISC'], 'subclassId': ['1029'], 'categoryLeaf': ['cat02015'], 'categoryPathCount': ['3.0'], 'departmentId': ['8'], 'homeDelivery': ['false'], 'startDate': ['2000-10-17'], 'classId': ['76'], 'active': ['false'], 'image': ['http://images.bestbuy.com/BestBuy_US/images/products/1613/1613329.jpg'], 'onSale': ['false'], 'subclass': ['SPECIAL INTEREST'], 'sku': ['1613329'], 'inStoreAvailability': ['false']}}, {'_index': 'bbuy_products', '_type': '_doc', '_id': '1613338', '_score': 1.0, '_source': {'class': ['BLU RAY MOVIES'], 'inStorePickup': ['false'], 'categoryPath': ['Best Buy', 'Movies &amp; Music', 'Movies &amp; TV Shows'], 'productId': ['26228'], 'onlineAvailability': ['false'], 'regularPrice': ['9.99'], 'quantityLimit': ['3'], 'digital': ['false'], 'name': ['The Frugal Gourmet: First Courses and Wine - VHS'], 'type': ['Movie'], 'releaseDate': ['2001-05-15'], '@version': '1', 'bestBuyItemId': ['233421'], 'salePrice': ['9.99'], 'categoryPathIds': ['cat00000', 'abcat0600000', 'cat02015'], '@timestamp': '2022-02-21T06:05:28.535Z', 'tags': ['multiline'], 'department': ['VIDEO/COMPACT DISC'], 'subclassId': ['294'], 'categoryLeaf': ['cat02015'], 'categoryPathCount': ['3.0'], 'departmentId': ['8'], 'homeDelivery': ['false'], 'startDate': ['2000-10-17'], 'classId': ['76'], 'active': ['false'], 'image': ['http://images.bestbuy.com/BestBuy_US/images/products/1613/1613338.jpg'], 'onSale': ['false'], 'subclass': ['BLURAY SPECIAL VALUE'], 'sku': ['1613338'], 'inStoreAvailability': ['false']}}, {'_index': 'bbuy_products', '_type': '_doc', '_id': '1613347', '_score': 1.0, '_source': {'class': ['BLU RAY MOVIES'], 'inStorePickup': ['false'], 'categoryPath': ['Best Buy', 'Movies &amp; Music', 'Movies &amp; TV Shows'], 'productId': ['43484'], 'onlineAvailability': ['false'], 'regularPrice': ['9.99'], 'quantityLimit': ['3'], 'digital': ['false'], 'name': ['The Frugal Gourmet: The Chinese Kitchen - VHS'], 'type': ['Movie'], 'releaseDate': ['2001-05-15'], '@version': '1', 'bestBuyItemId': ['278362'], 'salePrice': ['9.99'], 'categoryPathIds': ['cat00000', 'abcat0600000', 'cat02015'], '@timestamp': '2022-02-21T06:05:28.536Z', 'tags': ['multiline'], 'department': ['VIDEO/COMPACT DISC'], 'subclassId': ['1029'], 'categoryLeaf': ['cat02015'], 'categoryPathCount': ['3.0'], 'departmentId': ['8'], 'homeDelivery': ['false'], 'startDate': ['2000-10-17'], 'classId': ['76'], 'active': ['false'], 'image': ['http://images.bestbuy.com/BestBuy_US/images/products/1613/1613347.jpg'], 'onSale': ['false'], 'subclass': ['SPECIAL INTEREST'], 'sku': ['1613347'], 'inStoreAvailability': ['false']}}]}}\n"
     ]
    }
   ],
   "source": [
    "client = OpenSearch(\n",
    "            hosts=[{'host': host, 'port': port}],\n",
    "            http_compress=True,  # enables gzip compression for request bodies\n",
    "            http_auth=auth,\n",
    "            # client_cert = client_cert_path,\n",
    "            # client_key = client_key_path,\n",
    "            use_ssl=True,\n",
    "            verify_certs=False, # set to true if you have certs\n",
    "            ssl_assert_hostname=False,\n",
    "            ssl_show_warn=False,\n",
    "\n",
    "        )\n",
    "        \n",
    "query = {\n",
    "        \"size\": 5,\n",
    "        \"query\": {\n",
    "            \"match_all\": {} # Replace me with a query that both searches and filters\n",
    "        },\n",
    "        \"aggs\": {\n",
    "            #TODO: FILL ME IN\n",
    "        }\n",
    "}\n",
    "response  = client.search(body=query, index=\"bbuy_products\") \n",
    "print(response)\n"
   ]
  }
 ],
 "metadata": {
  "interpreter": {
   "hash": "6ceb5081a73869b0600c9402a1a8e5fc05ed6ea0379e2ce829e30bde915b9e19"
  },
  "kernelspec": {
   "display_name": "Python 3.9.7 64-bit ('search_with_ml_week1')",
   "language": "python",
   "name": "python3"
  },
  "language_info": {
   "codemirror_mode": {
    "name": "ipython",
    "version": 3
   },
   "file_extension": ".py",
   "mimetype": "text/x-python",
   "name": "python",
   "nbconvert_exporter": "python",
   "pygments_lexer": "ipython3",
   "version": "3.9.7"
  },
  "orig_nbformat": 4
 },
 "nbformat": 4,
 "nbformat_minor": 2
}
