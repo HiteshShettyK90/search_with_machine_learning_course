{
 "cells": [
  {
   "cell_type": "code",
   "execution_count": 2,
   "metadata": {},
   "outputs": [],
   "source": [
    "from opensearchpy import OpenSearch\n",
    "import json\n",
    "host = 'localhost'\n",
    "port = 9200\n",
    "auth = ('admin','admin')\n",
    "\n"
   ]
  },
  {
   "cell_type": "code",
   "execution_count": 6,
   "metadata": {},
   "outputs": [],
   "source": [
    "# Create the client with SSL/TLS enabled, but hostname and certification verification disabled.\n",
    "client = OpenSearch(\n",
    "    hosts = [{'host': host, 'port': port}],\n",
    "    http_compress = True, # enables gzip compression for request bodies\n",
    "    http_auth = auth,\n",
    "    # client_cert = client_cert_path,\n",
    "    # client_key = client_key_path,\n",
    "    use_ssl = True,\n",
    "    verify_certs = False,\n",
    "    ssl_assert_hostname = False,\n",
    "    ssl_show_warn = False,\n",
    ")"
   ]
  },
  {
   "cell_type": "code",
   "execution_count": 9,
   "metadata": {},
   "outputs": [
    {
     "name": "stdout",
     "output_type": "stream",
     "text": [
      "1645298470 19:21:10 docker-cluster yellow 1 1 true 4 4 0 0 1 0 - 80.0%\n",
      "\n",
      "yellow open security-auditlog-2022.02.19 PGiBvPgHTmyI16bdT8uDpw 1 1 22 0   83kb   83kb\n",
      "green  open .kibana_92668751_admin_1     jGcsAkCnQjajrpvfz3yHRw 1 0  1 0 53.7kb 53.7kb\n",
      "green  open .kibana_1                    wf5MjWZ2TI-JNKzwl1NuDw 1 0  3 7 36.2kb 36.2kb\n",
      "green  open .opendistro_security         rCemxg5jRBiKHSzJSdR_Fg 1 0  9 0 59.9kb 59.9kb\n",
      "\n"
     ]
    }
   ],
   "source": [
    "#Do a few checks before we start indexing:\n",
    "print(client.cat.health())\n",
    "print(client.cat.indices())"
   ]
  },
  {
   "cell_type": "code",
   "execution_count": 10,
   "metadata": {},
   "outputs": [
    {
     "name": "stdout",
     "output_type": "stream",
     "text": [
      "epoch      timestamp count\n",
      "1645301091 20:04:51  4\n",
      "\n"
     ]
    }
   ],
   "source": [
    "# If you still have your documents from the Dev Tools test, we should be able to check them here:\n",
    "print(client.cat.count(\"searchml_test\", params={\"v\":\"true\"}))"
   ]
  }
 ],
 "metadata": {
  "interpreter": {
   "hash": "6ceb5081a73869b0600c9402a1a8e5fc05ed6ea0379e2ce829e30bde915b9e19"
  },
  "kernelspec": {
   "display_name": "Python 3.9.7 64-bit ('search_with_ml_week1')",
   "language": "python",
   "name": "python3"
  },
  "language_info": {
   "codemirror_mode": {
    "name": "ipython",
    "version": 3
   },
   "file_extension": ".py",
   "mimetype": "text/x-python",
   "name": "python",
   "nbconvert_exporter": "python",
   "pygments_lexer": "ipython3",
   "version": "3.9.7"
  },
  "orig_nbformat": 4
 },
 "nbformat": 4,
 "nbformat_minor": 2
}
